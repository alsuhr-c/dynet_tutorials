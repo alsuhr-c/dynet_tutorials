{
 "cells": [
  {
   "cell_type": "markdown",
   "metadata": {},
   "source": [
    "# The DyNet computation graph\n",
    "Computation graphs are the fundamental language used in frameworks like TensorFlow, Theano, PyTorch, ... They describe a graph of mathematical operations. A computation graph is defined by a set of nodes and edges, where nodes represent data (for example, a scalar value representing an input to the model or a matrix representing a set of learnable parameters) and edges represent function calls (for example, multiplying a value by another value).\n",
    "\n",
    "The [class notes](http://www.cs.cornell.edu/courses/cs5740/2018sp/lectures/04-nn-compgraph.pdf) contain more information about computation graphs.\n",
    "\n",
    "## Entering/exiting the computation graph\n",
    "Below we learn how to put data into the computation graph and perform a forward pass to get that data back."
   ]
  },
  {
   "cell_type": "code",
   "execution_count": 1,
   "metadata": {
    "collapsed": false
   },
   "outputs": [],
   "source": [
    "import dynet as dy\n",
    "import numpy as np\n",
    "\n",
    "my_scalar = np.random.randint(0,100)\n",
    "my_vector = np.random.random([3])\n",
    "my_matrix = np.random.random([3,3])"
   ]
  },
  {
   "cell_type": "code",
   "execution_count": 2,
   "metadata": {
    "collapsed": false
   },
   "outputs": [
    {
     "data": {
      "text/plain": [
       "55"
      ]
     },
     "execution_count": 2,
     "metadata": {},
     "output_type": "execute_result"
    }
   ],
   "source": [
    "my_scalar"
   ]
  },
  {
   "cell_type": "code",
   "execution_count": 3,
   "metadata": {
    "collapsed": false
   },
   "outputs": [
    {
     "data": {
      "text/plain": [
       "array([0.42570447, 0.1507006 , 0.18234419])"
      ]
     },
     "execution_count": 3,
     "metadata": {},
     "output_type": "execute_result"
    }
   ],
   "source": [
    "my_vector"
   ]
  },
  {
   "cell_type": "code",
   "execution_count": 4,
   "metadata": {
    "collapsed": false
   },
   "outputs": [
    {
     "data": {
      "text/plain": [
       "array([[0.63670543, 0.29752975, 0.75228366],\n",
       "       [0.39132351, 0.37960974, 0.69654221],\n",
       "       [0.3036    , 0.38567218, 0.13911835]])"
      ]
     },
     "execution_count": 4,
     "metadata": {},
     "output_type": "execute_result"
    }
   ],
   "source": [
    "my_matrix"
   ]
  },
  {
   "cell_type": "markdown",
   "metadata": {},
   "source": [
    "Now that we have some random data, let's put it into the DyNet computation graph. First, we have to renew the computation graph."
   ]
  },
  {
   "cell_type": "code",
   "execution_count": 5,
   "metadata": {
    "collapsed": true
   },
   "outputs": [],
   "source": [
    "dy.renew_cg()\n",
    "\n",
    "scalar_exp = dy.scalarInput(my_scalar)\n",
    "vector_exp = dy.inputVector(my_vector)\n",
    "matrix_exp = dy.inputTensor(my_matrix)"
   ]
  },
  {
   "cell_type": "markdown",
   "metadata": {},
   "source": [
    "Let's look at the size of these expressions using the [`dim`](http://dynet.readthedocs.io/en/latest/python_ref.html#dynet.Expression.dim) function."
   ]
  },
  {
   "cell_type": "code",
   "execution_count": 6,
   "metadata": {
    "collapsed": false
   },
   "outputs": [
    {
     "data": {
      "text/plain": [
       "((1,), 1)"
      ]
     },
     "execution_count": 6,
     "metadata": {},
     "output_type": "execute_result"
    }
   ],
   "source": [
    "scalar_exp.dim()"
   ]
  },
  {
   "cell_type": "code",
   "execution_count": 7,
   "metadata": {
    "collapsed": false
   },
   "outputs": [
    {
     "data": {
      "text/plain": [
       "((3,), 1)"
      ]
     },
     "execution_count": 7,
     "metadata": {},
     "output_type": "execute_result"
    }
   ],
   "source": [
    "vector_exp.dim()"
   ]
  },
  {
   "cell_type": "code",
   "execution_count": 8,
   "metadata": {
    "collapsed": false
   },
   "outputs": [
    {
     "data": {
      "text/plain": [
       "((3, 3), 1)"
      ]
     },
     "execution_count": 8,
     "metadata": {},
     "output_type": "execute_result"
    }
   ],
   "source": [
    "matrix_exp.dim()"
   ]
  },
  {
   "cell_type": "markdown",
   "metadata": {},
   "source": [
    "And then let's get the data back by calling the [`value`](http://dynet.readthedocs.io/en/latest/python_ref.html#dynet.Expression.value) function. Depending on the dimensions of your expression, it might return a float (if it's a scalar), a list (if it's a vector), or a numpy array (if it's a matrix)."
   ]
  },
  {
   "cell_type": "code",
   "execution_count": 9,
   "metadata": {
    "collapsed": false
   },
   "outputs": [
    {
     "data": {
      "text/plain": [
       "55.0"
      ]
     },
     "execution_count": 9,
     "metadata": {},
     "output_type": "execute_result"
    }
   ],
   "source": [
    "scalar_exp.value()"
   ]
  },
  {
   "cell_type": "code",
   "execution_count": 10,
   "metadata": {
    "collapsed": false
   },
   "outputs": [
    {
     "data": {
      "text/plain": [
       "[0.4257044792175293, 0.15070059895515442, 0.1823441982269287]"
      ]
     },
     "execution_count": 10,
     "metadata": {},
     "output_type": "execute_result"
    }
   ],
   "source": [
    "vector_exp.value()"
   ]
  },
  {
   "cell_type": "code",
   "execution_count": 11,
   "metadata": {
    "collapsed": false
   },
   "outputs": [
    {
     "data": {
      "text/plain": [
       "array([[0.63670546, 0.29752976, 0.75228363],\n",
       "       [0.39132351, 0.37960973, 0.6965422 ],\n",
       "       [0.30359998, 0.38567218, 0.13911834]])"
      ]
     },
     "execution_count": 11,
     "metadata": {},
     "output_type": "execute_result"
    }
   ],
   "source": [
    "matrix_exp.value()"
   ]
  },
  {
   "cell_type": "markdown",
   "metadata": {},
   "source": [
    "You can also create DyNet expressions of any size by using several functions provided by DyNet, including [`zeros`](http://dynet.readthedocs.io/en/latest/python_ref.html#dynet.zeros), [`ones`](http://dynet.readthedocs.io/en/latest/python_ref.html#dynet.ones), and sampling from various random distributions."
   ]
  },
  {
   "cell_type": "code",
   "execution_count": 12,
   "metadata": {
    "collapsed": false
   },
   "outputs": [
    {
     "data": {
      "text/plain": [
       "array([[0., 0., 0.],\n",
       "       [0., 0., 0.],\n",
       "       [0., 0., 0.]])"
      ]
     },
     "execution_count": 12,
     "metadata": {},
     "output_type": "execute_result"
    }
   ],
   "source": [
    "zeros = dy.zeros((3, 3))\n",
    "zeros.value()"
   ]
  },
  {
   "cell_type": "code",
   "execution_count": 13,
   "metadata": {
    "collapsed": false
   },
   "outputs": [
    {
     "data": {
      "text/plain": [
       "array([[ 0.86002839,  0.56079078,  0.70130646],\n",
       "       [-0.08160084,  0.59550714,  0.63070405],\n",
       "       [-0.21578628, -0.91960108, -0.11020499]])"
      ]
     },
     "execution_count": 13,
     "metadata": {},
     "output_type": "execute_result"
    }
   ],
   "source": [
    "random_uniform = dy.random_uniform((3, 3), -1.0, 1.0)\n",
    "random_uniform.value()"
   ]
  },
  {
   "cell_type": "markdown",
   "metadata": {},
   "source": [
    "## Basic mathematic operators\n",
    "Now we will learn about some of the basic math operators DyNet provides. We will also look at forward passes in the graph.\n",
    "\n",
    "It supports basic operators like exponentiating, trigonometric functions, and nonlinearities on any expressions."
   ]
  },
  {
   "cell_type": "code",
   "execution_count": 14,
   "metadata": {
    "collapsed": false
   },
   "outputs": [
    {
     "data": {
      "text/plain": [
       "array([[0.63670546, 0.29752976, 0.75228363],\n",
       "       [0.39132351, 0.37960973, 0.6965422 ],\n",
       "       [0.30359998, 0.38567218, 0.13911834]])"
      ]
     },
     "execution_count": 14,
     "metadata": {},
     "output_type": "execute_result"
    }
   ],
   "source": [
    "matrix_exp.value()"
   ]
  },
  {
   "cell_type": "code",
   "execution_count": 15,
   "metadata": {
    "collapsed": false
   },
   "outputs": [
    {
     "data": {
      "text/plain": [
       "array([[1.89024317, 1.34652841, 2.12184   ],\n",
       "       [1.47893691, 1.46171391, 2.00680161],\n",
       "       [1.35472703, 1.47060251, 1.14926004]])"
      ]
     },
     "execution_count": 15,
     "metadata": {},
     "output_type": "execute_result"
    }
   ],
   "source": [
    "dy.exp(matrix_exp).value()"
   ]
  },
  {
   "cell_type": "code",
   "execution_count": 16,
   "metadata": {
    "collapsed": false
   },
   "outputs": [
    {
     "data": {
      "text/plain": [
       "array([[0.56265211, 0.28905034, 0.63650942],\n",
       "       [0.37250063, 0.36236846, 0.60216838],\n",
       "       [0.29460362, 0.36762327, 0.13822773]])"
      ]
     },
     "execution_count": 16,
     "metadata": {},
     "output_type": "execute_result"
    }
   ],
   "source": [
    "dy.tanh(matrix_exp).value()"
   ]
  },
  {
   "cell_type": "code",
   "execution_count": 17,
   "metadata": {
    "collapsed": false,
    "scrolled": true
   },
   "outputs": [
    {
     "data": {
      "text/plain": [
       "array([[0.63670546, 0.29752976, 0.75228363],\n",
       "       [0.39132351, 0.37960973, 0.6965422 ],\n",
       "       [0.30359998, 0.38567218, 0.13911834]])"
      ]
     },
     "execution_count": 17,
     "metadata": {},
     "output_type": "execute_result"
    }
   ],
   "source": [
    "dy.rectify(matrix_exp).value()"
   ]
  },
  {
   "cell_type": "markdown",
   "metadata": {},
   "source": [
    "By the way, any time `value` or `forward` is called, a forward pass is performed on the graph. This means that the  computations are actually carried out and a numerical value is returned. All nodes and edges in the graph that contribute to the value you request will be used. Before calling either of these functions, the graph is just a set of nodes and edges describing a computation. We will discuss forward passes more in detail during the batching section.\n",
    "\n",
    "DyNet has some simple binary operators overloaded, including +, -, \\*, and /. This means you can perform any of these operations with an Expression and a Python scalar, and the operation will be projected across all dimensions of the expression."
   ]
  },
  {
   "cell_type": "code",
   "execution_count": 18,
   "metadata": {
    "collapsed": false
   },
   "outputs": [
    {
     "data": {
      "text/plain": [
       "array([[1.6367054 , 1.2975297 , 1.75228357],\n",
       "       [1.39132357, 1.3796097 , 1.69654226],\n",
       "       [1.30359995, 1.38567221, 1.13911831]])"
      ]
     },
     "execution_count": 18,
     "metadata": {},
     "output_type": "execute_result"
    }
   ],
   "source": [
    "(matrix_exp + 1.0).value()"
   ]
  },
  {
   "cell_type": "code",
   "execution_count": 19,
   "metadata": {
    "collapsed": false
   },
   "outputs": [
    {
     "data": {
      "text/plain": [
       "array([[0.31835273, 0.14876488, 0.37614182],\n",
       "       [0.19566175, 0.18980487, 0.3482711 ],\n",
       "       [0.15179999, 0.19283609, 0.06955917]])"
      ]
     },
     "execution_count": 19,
     "metadata": {},
     "output_type": "execute_result"
    }
   ],
   "source": [
    "(matrix_exp / 2.0).value()"
   ]
  },
  {
   "cell_type": "markdown",
   "metadata": {},
   "source": [
    "It also provides component-wise operations on multiple expressions:"
   ]
  },
  {
   "cell_type": "code",
   "execution_count": 20,
   "metadata": {
    "collapsed": false
   },
   "outputs": [
    {
     "data": {
      "text/plain": [
       "array([[ 1.4967339 ,  0.85832053,  1.45359015],\n",
       "       [ 0.30972266,  0.97511685,  1.32724619],\n",
       "       [ 0.08781371, -0.53392887,  0.02891335]])"
      ]
     },
     "execution_count": 20,
     "metadata": {},
     "output_type": "execute_result"
    }
   ],
   "source": [
    "(matrix_exp + random_uniform).value()"
   ]
  },
  {
   "cell_type": "code",
   "execution_count": 21,
   "metadata": {
    "collapsed": false
   },
   "outputs": [
    {
     "data": {
      "text/plain": [
       "array([[ 0.7403307 ,  0.53055394,  1.07268882],\n",
       "       [-4.79558134,  0.63745618,  1.10438836],\n",
       "       [-1.40694761, -0.41939071, -1.26235974]])"
      ]
     },
     "execution_count": 21,
     "metadata": {},
     "output_type": "execute_result"
    }
   ],
   "source": [
    "dy.cdiv(matrix_exp, random_uniform).value()"
   ]
  },
  {
   "cell_type": "markdown",
   "metadata": {},
   "source": [
    "Some operations are useful for summarizing information about an Expression or reshaping it."
   ]
  },
  {
   "cell_type": "code",
   "execution_count": 22,
   "metadata": {
    "collapsed": false
   },
   "outputs": [
    {
     "data": {
      "text/plain": [
       "3.9823849201202393"
      ]
     },
     "execution_count": 22,
     "metadata": {},
     "output_type": "execute_result"
    }
   ],
   "source": [
    "dy.sum_elems(matrix_exp).value()"
   ]
  },
  {
   "cell_type": "code",
   "execution_count": 23,
   "metadata": {
    "collapsed": false
   },
   "outputs": [
    {
     "data": {
      "text/plain": [
       "0.2529164254665375"
      ]
     },
     "execution_count": 23,
     "metadata": {},
     "output_type": "execute_result"
    }
   ],
   "source": [
    "dy.mean_elems(vector_exp).value()"
   ]
  },
  {
   "cell_type": "code",
   "execution_count": 24,
   "metadata": {
    "collapsed": false
   },
   "outputs": [
    {
     "data": {
      "text/plain": [
       "((9, 1), 1)"
      ]
     },
     "execution_count": 24,
     "metadata": {},
     "output_type": "execute_result"
    }
   ],
   "source": [
    "dy.reshape(matrix_exp, (9, 1)).dim()"
   ]
  },
  {
   "cell_type": "markdown",
   "metadata": {},
   "source": [
    "A few special operations can be used on lists of expressions."
   ]
  },
  {
   "cell_type": "code",
   "execution_count": 25,
   "metadata": {
    "collapsed": false
   },
   "outputs": [
    {
     "data": {
      "text/plain": [
       "array([[ 1.4967339 ,  0.85832053,  1.45359015],\n",
       "       [ 0.30972266,  0.97511685,  1.32724619],\n",
       "       [ 0.08781371, -0.53392887,  0.02891335]])"
      ]
     },
     "execution_count": 25,
     "metadata": {},
     "output_type": "execute_result"
    }
   ],
   "source": [
    "dy.esum([matrix_exp, random_uniform]).value()"
   ]
  },
  {
   "cell_type": "markdown",
   "metadata": {},
   "source": [
    "## Parameter Collections and Parameters\n",
    "DyNet has a [`ParameterCollection`](http://dynet.readthedocs.io/en/latest/python_ref.html#parametercollection-and-parameters) object which is used to store optimizable tensors (e.g., a bias vector or weight matrix). \n",
    "\n",
    "[`Parameters`](http://dynet.readthedocs.io/en/latest/python_ref.html#dynet.ParameterCollection) contain tensor data. To load them into the graph, you first need to call [`dy.parameter()`](http://dynet.readthedocs.io/en/latest/python_ref.html#dynet.parameter).\n",
    "\n",
    "[`LookupParameters`](http://dynet.readthedocs.io/en/latest/python_ref.html#dynet.LookupParameters) represents a table of parameters. In general, these are used as lists of vectors, where you can look up the appropriate vector and add it to the graph by indexing the lookup parameters as you would a normal Python list.\n",
    "\n",
    "Below we will see examples of the two types of parameters. First, we have to create the parameter collection."
   ]
  },
  {
   "cell_type": "code",
   "execution_count": 26,
   "metadata": {
    "collapsed": true
   },
   "outputs": [],
   "source": [
    "pc = dy.ParameterCollection()"
   ]
  },
  {
   "cell_type": "markdown",
   "metadata": {},
   "source": [
    "Then we can create a parameters object. Let's make a weight vector object that we can multiply out matrices with."
   ]
  },
  {
   "cell_type": "code",
   "execution_count": 27,
   "metadata": {
    "collapsed": false
   },
   "outputs": [
    {
     "data": {
      "text/plain": [
       "array([[-0.15800512],\n",
       "       [ 0.0979048 ],\n",
       "       [ 0.00921047]])"
      ]
     },
     "execution_count": 27,
     "metadata": {},
     "output_type": "execute_result"
    }
   ],
   "source": [
    "parameters = pc.add_parameters((3, 1))\n",
    "\n",
    "graph_params = dy.parameter(parameters)\n",
    "graph_params.value()"
   ]
  },
  {
   "cell_type": "markdown",
   "metadata": {},
   "source": [
    "Above, we created a parameters vector of size 3 x 1, loaded it into the graph, and got its value. We can also check the value by calling [`as_array`](http://dynet.readthedocs.io/en/latest/python_ref.html#dynet.Parameters.as_array):"
   ]
  },
  {
   "cell_type": "code",
   "execution_count": 28,
   "metadata": {
    "collapsed": false
   },
   "outputs": [
    {
     "data": {
      "text/plain": [
       "array([[-0.15800512],\n",
       "       [ 0.0979048 ],\n",
       "       [ 0.00921047]])"
      ]
     },
     "execution_count": 28,
     "metadata": {},
     "output_type": "execute_result"
    }
   ],
   "source": [
    "parameters.as_array()"
   ]
  },
  {
   "cell_type": "markdown",
   "metadata": {},
   "source": [
    "We can perform a few computations in the graph:"
   ]
  },
  {
   "cell_type": "code",
   "execution_count": 29,
   "metadata": {
    "collapsed": false
   },
   "outputs": [
    {
     "data": {
      "text/plain": [
       "array([[-0.13906968],\n",
       "       [ 0.05875542],\n",
       "       [-0.06588291]])"
      ]
     },
     "execution_count": 29,
     "metadata": {},
     "output_type": "execute_result"
    }
   ],
   "source": [
    "m1 = matrix_exp * graph_params\n",
    "m2 = random_uniform * graph_params\n",
    "result = m1 + m2\n",
    "result.value()"
   ]
  },
  {
   "cell_type": "markdown",
   "metadata": {},
   "source": [
    "Recall that until we call `value`, no computations have actually been performed. \n",
    "\n",
    "Now let's creates some lookup parameters."
   ]
  },
  {
   "cell_type": "code",
   "execution_count": 30,
   "metadata": {
    "collapsed": false
   },
   "outputs": [],
   "source": [
    "lookup_parameters = pc.add_lookup_parameters((100, 3))"
   ]
  },
  {
   "cell_type": "markdown",
   "metadata": {},
   "source": [
    "We get values from the lookup parameters by using syntax similar to Python indexing:"
   ]
  },
  {
   "cell_type": "code",
   "execution_count": 31,
   "metadata": {
    "collapsed": false
   },
   "outputs": [
    {
     "data": {
      "text/plain": [
       "[0.7301192283630371, 0.0772939920425415, 0.5839259624481201]"
      ]
     },
     "execution_count": 31,
     "metadata": {},
     "output_type": "execute_result"
    }
   ],
   "source": [
    "lookup_vector = lookup_parameters[my_scalar]\n",
    "lookup_vector.value()"
   ]
  },
  {
   "cell_type": "markdown",
   "metadata": {},
   "source": [
    "Sometimes during model development it's necessary to save and load learned parameters. DyNet will save all `Parameters` and `LookupParameters` objects. However, it won't save other things during training such as learning rate coefficients and optimizer parameters, so be careful."
   ]
  },
  {
   "cell_type": "code",
   "execution_count": 33,
   "metadata": {
    "collapsed": false
   },
   "outputs": [],
   "source": [
    "save_filename = \"save.dy\"\n",
    "pc.save(save_filename)\n",
    "pc.populate(save_filename)"
   ]
  }
 ],
 "metadata": {
  "kernelspec": {
   "display_name": "Python 3",
   "language": "python",
   "name": "python3"
  },
  "language_info": {
   "codemirror_mode": {
    "name": "ipython",
    "version": 3
   },
   "file_extension": ".py",
   "mimetype": "text/x-python",
   "name": "python",
   "nbconvert_exporter": "python",
   "pygments_lexer": "ipython3",
   "version": "3.5.1"
  }
 },
 "nbformat": 4,
 "nbformat_minor": 0
}
