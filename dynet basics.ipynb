{
 "cells": [
  {
   "cell_type": "code",
   "execution_count": 1,
   "metadata": {
    "collapsed": true
   },
   "outputs": [],
   "source": [
    "import dynet as dy"
   ]
  },
  {
   "cell_type": "markdown",
   "metadata": {
    "collapsed": true
   },
   "source": [
    "The parameter collection contains all of the learned parameters in the model."
   ]
  },
  {
   "cell_type": "code",
   "execution_count": 2,
   "metadata": {
    "collapsed": true
   },
   "outputs": [],
   "source": [
    "pc = dy.ParameterCollection()"
   ]
  },
  {
   "cell_type": "markdown",
   "metadata": {},
   "source": [
    "# Parameters\n",
    "First we will look at how to use Parameters in Dynet."
   ]
  },
  {
   "cell_type": "code",
   "execution_count": 3,
   "metadata": {
    "collapsed": false
   },
   "outputs": [],
   "source": [
    "weights = pc.add_parameters((2, 4))\n",
    "biases = pc.add_parameters((4,), init=dy.UniformInitializer(0.1))"
   ]
  },
  {
   "cell_type": "markdown",
   "metadata": {},
   "source": [
    "`weights` is a matrix of size (2, 4). `biases` is a vector of length 4, and is initialized uniformly in [-0.1, 0.1]."
   ]
  },
  {
   "cell_type": "code",
   "execution_count": 4,
   "metadata": {
    "collapsed": false,
    "scrolled": true
   },
   "outputs": [
    {
     "data": {
      "text/plain": [
       "array([[ 0.53551078,  0.73564613,  0.48881745, -0.47133124],\n",
       "       [ 0.61683357, -0.10449088, -0.52180678,  0.52510762]])"
      ]
     },
     "execution_count": 4,
     "metadata": {},
     "output_type": "execute_result"
    }
   ],
   "source": [
    "weights.as_array()"
   ]
  },
  {
   "cell_type": "code",
   "execution_count": 5,
   "metadata": {
    "collapsed": false
   },
   "outputs": [
    {
     "data": {
      "text/plain": [
       "array([ 0.02503315, -0.00600196,  0.0618191 ,  0.05418576])"
      ]
     },
     "execution_count": 5,
     "metadata": {},
     "output_type": "execute_result"
    }
   ],
   "source": [
    "biases.as_array()"
   ]
  },
  {
   "cell_type": "markdown",
   "metadata": {},
   "source": [
    "Now we will perform some basic computations with these parameters. There are two important things to note. First, you should reset the computation graph by calling `dy.renew_cg()`. Also, whenever you want to use the parameters we created, you should wrap them in a call to `dy.parameter(.)`. This transforms them into a `dy.Expression`, the which is the type for data in the computation graph.\n",
    "\n",
    "First though, we will create a vector to pass into the network."
   ]
  },
  {
   "cell_type": "code",
   "execution_count": 6,
   "metadata": {
    "collapsed": false
   },
   "outputs": [
    {
     "data": {
      "text/plain": [
       "array([0.46854802, 0.79034192])"
      ]
     },
     "execution_count": 6,
     "metadata": {},
     "output_type": "execute_result"
    }
   ],
   "source": [
    "import numpy as np\n",
    "my_array = np.random.rand(2)\n",
    "my_array"
   ]
  },
  {
   "cell_type": "markdown",
   "metadata": {},
   "source": [
    "To put it into the computation graph, we need to call `dy.inputTensor`."
   ]
  },
  {
   "cell_type": "code",
   "execution_count": 7,
   "metadata": {
    "collapsed": false
   },
   "outputs": [],
   "source": [
    "dy.renew_cg()\n",
    "my_array = dy.inputTensor(my_array)"
   ]
  },
  {
   "cell_type": "markdown",
   "metadata": {},
   "source": [
    "Then we pass it through the network by multiplying it by `weights` and adding the `biases`. \n",
    "\n",
    "Also note that we have to reshape the input array so that we can perform the multiplication. This adds a dimension to the vector. Before the reshape, it was a 1D vector of length 2. After, it's a 2D matrix of size 1x2. This allows us to multiply it by the 2x4 `weights` matrix. The multiplication gives us a vector of size (1, 4). So we must transpose it before adding the `biases`."
   ]
  },
  {
   "cell_type": "code",
   "execution_count": 8,
   "metadata": {
    "collapsed": false
   },
   "outputs": [],
   "source": [
    "weights_exp = dy.parameter(weights)\n",
    "biases_exp = dy.parameter(biases)\n",
    "\n",
    "my_array = dy.reshape(my_array, (1, 2))\n",
    "result = my_array * weights_exp\n",
    "result = dy.transpose(result)\n",
    "result = result + biases_exp\n"
   ]
  },
  {
   "cell_type": "markdown",
   "metadata": {},
   "source": [
    "Several functions allow us to investigate the `result`. `dim()` gives us the shape or dimensions of the expression and `value()` gives us the actual values in the expression. \n",
    "\n",
    "By the way, before calling `value()`, the computation graph hasn't actually performed any computations. Only when you request the actual numerical value of an expression does it perform the necessary computations to get the result."
   ]
  },
  {
   "cell_type": "code",
   "execution_count": 9,
   "metadata": {
    "collapsed": false
   },
   "outputs": [
    {
     "data": {
      "text/plain": [
       "((4, 1), 1)"
      ]
     },
     "execution_count": 9,
     "metadata": {},
     "output_type": "execute_result"
    }
   ],
   "source": [
    "result.dim()"
   ]
  },
  {
   "cell_type": "code",
   "execution_count": 10,
   "metadata": {
    "collapsed": false
   },
   "outputs": [
    {
     "data": {
      "text/plain": [
       "array([[ 0.76345509],\n",
       "       [ 0.25610006],\n",
       "       [-0.12155221],\n",
       "       [ 0.24835899]])"
      ]
     },
     "execution_count": 10,
     "metadata": {},
     "output_type": "execute_result"
    }
   ],
   "source": [
    "result.value()"
   ]
  },
  {
   "cell_type": "markdown",
   "metadata": {},
   "source": [
    "# Lookup parameters\n",
    "Now we will learn how to use `dy.LookupParameters`. Generally speaking, lookup parameters are a matrix that you can select rows from using  indexing, in contrast to normal parameters, which require a call to `dy.parameter(.)`. They are more efficient to use than parameters as well."
   ]
  },
  {
   "cell_type": "code",
   "execution_count": 11,
   "metadata": {
    "collapsed": false
   },
   "outputs": [
    {
     "data": {
      "text/plain": [
       "array([[-0.65459633,  0.19909722,  0.32690293,  0.7955175 ],\n",
       "       [-0.3908107 ,  0.80685657,  0.44233733,  0.8011722 ],\n",
       "       [-0.66098285,  0.55475658,  0.68738383, -0.63972837]])"
      ]
     },
     "execution_count": 11,
     "metadata": {},
     "output_type": "execute_result"
    }
   ],
   "source": [
    "lookup_params = pc.add_lookup_parameters((3, 4))\n",
    "lookup_params.as_array()"
   ]
  },
  {
   "cell_type": "markdown",
   "metadata": {},
   "source": [
    "Lookup parameters can be used to store word vectors or feature embeddings. In this case, we have 3 rows and 4 columns, meaning that we have 3 unique vectors of size 4.\n",
    "\n",
    "Let's look up some vectors."
   ]
  },
  {
   "cell_type": "code",
   "execution_count": 12,
   "metadata": {
    "collapsed": false
   },
   "outputs": [],
   "source": [
    "dy.renew_cg()\n",
    "embedding_0 = lookup_params[0]\n",
    "embedding_1 = lookup_params[1]\n",
    "embedding_2 = lookup_params[2]"
   ]
  },
  {
   "cell_type": "markdown",
   "metadata": {},
   "source": [
    "Let's verify the values."
   ]
  },
  {
   "cell_type": "code",
   "execution_count": 13,
   "metadata": {
    "collapsed": false
   },
   "outputs": [
    {
     "data": {
      "text/plain": [
       "[-0.6545963287353516,\n",
       " 0.19909721612930298,\n",
       " 0.32690292596817017,\n",
       " 0.7955175042152405]"
      ]
     },
     "execution_count": 13,
     "metadata": {},
     "output_type": "execute_result"
    }
   ],
   "source": [
    "embedding_0.value()"
   ]
  },
  {
   "cell_type": "code",
   "execution_count": 14,
   "metadata": {
    "collapsed": false
   },
   "outputs": [
    {
     "data": {
      "text/plain": [
       "[-0.39081069827079773,\n",
       " 0.8068565726280212,\n",
       " 0.4423373341560364,\n",
       " 0.8011721968650818]"
      ]
     },
     "execution_count": 14,
     "metadata": {},
     "output_type": "execute_result"
    }
   ],
   "source": [
    "embedding_1.value()"
   ]
  },
  {
   "cell_type": "code",
   "execution_count": 15,
   "metadata": {
    "collapsed": false
   },
   "outputs": [
    {
     "data": {
      "text/plain": [
       "[-0.6609828472137451,\n",
       " 0.5547565817832947,\n",
       " 0.6873838305473328,\n",
       " -0.6397283673286438]"
      ]
     },
     "execution_count": 15,
     "metadata": {},
     "output_type": "execute_result"
    }
   ],
   "source": [
    "embedding_2.value()"
   ]
  },
  {
   "cell_type": "markdown",
   "metadata": {},
   "source": [
    "This is what we expected (look above). Now let's show off a few things you can do in Dynet which might be useful. First, we can compute the mean of the three vectors. "
   ]
  },
  {
   "cell_type": "code",
   "execution_count": 16,
   "metadata": {
    "collapsed": false
   },
   "outputs": [
    {
     "data": {
      "text/plain": [
       "[-0.5687966346740723,\n",
       " 0.5202368497848511,\n",
       " 0.48554134368896484,\n",
       " 0.3189871311187744]"
      ]
     },
     "execution_count": 16,
     "metadata": {},
     "output_type": "execute_result"
    }
   ],
   "source": [
    "embeddings_mean = dy.esum([embedding_0, embedding_1, embedding_2]) / 3.\n",
    "embeddings_mean.value()"
   ]
  },
  {
   "cell_type": "code",
   "execution_count": null,
   "metadata": {
    "collapsed": true
   },
   "outputs": [],
   "source": []
  }
 ],
 "metadata": {
  "kernelspec": {
   "display_name": "Python 3",
   "language": "python",
   "name": "python3"
  },
  "language_info": {
   "codemirror_mode": {
    "name": "ipython",
    "version": 3
   },
   "file_extension": ".py",
   "mimetype": "text/x-python",
   "name": "python",
   "nbconvert_exporter": "python",
   "pygments_lexer": "ipython3",
   "version": "3.5.1"
  }
 },
 "nbformat": 4,
 "nbformat_minor": 0
}
