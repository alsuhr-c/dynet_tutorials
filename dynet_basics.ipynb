{
 "cells": [
  {
   "cell_type": "code",
   "execution_count": 1,
   "metadata": {},
   "outputs": [],
   "source": [
    "import dynet as dy"
   ]
  },
  {
   "cell_type": "markdown",
   "metadata": {
    "collapsed": true
   },
   "source": [
    "The parameter collection contains all of the learned parameters in the model.\n",
    "All parameters are added to a parameter collection."
   ]
  },
  {
   "cell_type": "code",
   "execution_count": 2,
   "metadata": {},
   "outputs": [],
   "source": [
    "pc = dy.ParameterCollection()"
   ]
  },
  {
   "cell_type": "markdown",
   "metadata": {},
   "source": [
    "# Parameters\n",
    "First we will look at how to use Parameters in Dynet."
   ]
  },
  {
   "cell_type": "code",
   "execution_count": 3,
   "metadata": {},
   "outputs": [],
   "source": [
    "weights = pc.add_parameters((2, 4))\n",
    "biases = pc.add_parameters((4,), init=dy.UniformInitializer(0.1))"
   ]
  },
  {
   "cell_type": "markdown",
   "metadata": {},
   "source": [
    "`weights` is a Parameters object containing a matrix of size (2, 4). `biases` is a Parameters object containing a vector of length 4, and is initialized uniformly in [-0.1, 0.1]. Parameters are a type of Expression."
   ]
  },
  {
   "cell_type": "code",
   "execution_count": 8,
   "metadata": {},
   "outputs": [
    {
     "data": {
      "text/plain": [
       "True"
      ]
     },
     "execution_count": 8,
     "metadata": {},
     "output_type": "execute_result"
    }
   ],
   "source": [
    "isinstance(weights, dy.Expression)"
   ]
  },
  {
   "cell_type": "code",
   "execution_count": null,
   "metadata": {
    "scrolled": true
   },
   "outputs": [],
   "source": [
    "weights.as_array()"
   ]
  },
  {
   "cell_type": "code",
   "execution_count": null,
   "metadata": {},
   "outputs": [],
   "source": [
    "type(weights.as_array())"
   ]
  },
  {
   "cell_type": "code",
   "execution_count": null,
   "metadata": {},
   "outputs": [],
   "source": [
    "biases.as_array()"
   ]
  },
  {
   "cell_type": "markdown",
   "metadata": {},
   "source": [
    "Now we will perform some basic computations with these parameters. There are two important things to note. First, you should reset the computation graph by calling `dy.renew_cg()`.\n",
    "\n",
    "First we will create a vector to pass into the network."
   ]
  },
  {
   "cell_type": "code",
   "execution_count": null,
   "metadata": {},
   "outputs": [],
   "source": [
    "import numpy as np\n",
    "my_array_np = np.random.rand(2)\n",
    "my_array_np"
   ]
  },
  {
   "cell_type": "markdown",
   "metadata": {},
   "source": [
    "To put it into the computation graph, we need to call `dy.inputTensor`. This returns an input expression containing the array. It is a special type of expression that has a `set` method for setting inputs to the network."
   ]
  },
  {
   "cell_type": "code",
   "execution_count": null,
   "metadata": {},
   "outputs": [],
   "source": [
    "dy.renew_cg()\n",
    "my_array = dy.inputTensor(my_array_np)"
   ]
  },
  {
   "cell_type": "markdown",
   "metadata": {},
   "source": [
    "Then we pass it through the network by multiplying it by `weights` and adding the `biases`. \n",
    "\n",
    "Also note that we have to reshape the input array so that we can perform the multiplication. This adds a dimension to the vector. Before the reshape, it was a 1D vector of length 2. After, it's a 2D matrix of size 1x2. This allows us to multiply it by the 2x4 `weights` matrix. The multiplication gives us a vector of size (1, 4). So we must transpose it before adding the `biases`."
   ]
  },
  {
   "cell_type": "code",
   "execution_count": null,
   "metadata": {},
   "outputs": [],
   "source": [
    "my_array = dy.reshape(my_array, (1, 2))\n",
    "result = my_array * weights_exp\n",
    "result = dy.transpose(result)\n",
    "result = result + biases_exp\n"
   ]
  },
  {
   "cell_type": "markdown",
   "metadata": {},
   "source": [
    "Several functions allow us to investigate the `result`. `dim()` gives us the shape or dimensions of the expression and `value()` gives us the actual values in the expression. \n",
    "\n",
    "By the way, before calling `value()`, the computation graph hasn't actually performed any computations. Only when you request the actual numerical value of an expression does it perform the necessary computations to get the result."
   ]
  },
  {
   "cell_type": "code",
   "execution_count": null,
   "metadata": {},
   "outputs": [],
   "source": [
    "result.dim()"
   ]
  },
  {
   "cell_type": "code",
   "execution_count": null,
   "metadata": {},
   "outputs": [],
   "source": [
    "result.value()"
   ]
  },
  {
   "cell_type": "markdown",
   "metadata": {},
   "source": [
    "# Lookup parameters\n",
    "Now we will learn how to use `dy.LookupParameters`. Generally speaking, lookup parameters are a matrix that you can select rows from using  indexing. They are more efficient to use than parameters."
   ]
  },
  {
   "cell_type": "code",
   "execution_count": null,
   "metadata": {},
   "outputs": [],
   "source": [
    "lookup_params = pc.add_lookup_parameters((3, 4))\n",
    "lookup_params.as_array()"
   ]
  },
  {
   "cell_type": "markdown",
   "metadata": {},
   "source": [
    "Lookup parameters can be used to store word vectors or feature embeddings. In this case, we have 3 rows and 4 columns, meaning that we have 3 unique vectors of size 4.\n",
    "\n",
    "Let's look up some vectors."
   ]
  },
  {
   "cell_type": "code",
   "execution_count": null,
   "metadata": {},
   "outputs": [],
   "source": [
    "dy.renew_cg()\n",
    "embedding_0 = lookup_params[0]\n",
    "embedding_1 = lookup_params[1]\n",
    "embedding_2 = lookup_params[2]"
   ]
  },
  {
   "cell_type": "markdown",
   "metadata": {},
   "source": [
    "Let's verify the values."
   ]
  },
  {
   "cell_type": "code",
   "execution_count": null,
   "metadata": {},
   "outputs": [],
   "source": [
    "embedding_0.value()"
   ]
  },
  {
   "cell_type": "code",
   "execution_count": null,
   "metadata": {},
   "outputs": [],
   "source": [
    "embedding_1.value()"
   ]
  },
  {
   "cell_type": "code",
   "execution_count": null,
   "metadata": {},
   "outputs": [],
   "source": [
    "embedding_2.value()"
   ]
  },
  {
   "cell_type": "markdown",
   "metadata": {},
   "source": [
    "This is what we expected (look above). Now let's show off a few things you can do in Dynet which might be useful. First, we can compute the mean of the three vectors. "
   ]
  },
  {
   "cell_type": "code",
   "execution_count": null,
   "metadata": {},
   "outputs": [],
   "source": [
    "embeddings_mean = dy.esum([embedding_0, embedding_1, embedding_2]) / 3.\n",
    "embeddings_mean.value()"
   ]
  }
 ],
 "metadata": {
  "kernelspec": {
   "display_name": "Python 3",
   "language": "python",
   "name": "python3"
  },
  "language_info": {
   "codemirror_mode": {
    "name": "ipython",
    "version": 3
   },
   "file_extension": ".py",
   "mimetype": "text/x-python",
   "name": "python",
   "nbconvert_exporter": "python",
   "pygments_lexer": "ipython3",
   "version": "3.7.2"
  }
 },
 "nbformat": 4,
 "nbformat_minor": 1
}
